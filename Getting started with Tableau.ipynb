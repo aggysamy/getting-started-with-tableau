{
 "cells": [
  {
   "cell_type": "code",
   "execution_count": 1,
   "id": "3dccd657",
   "metadata": {},
   "outputs": [],
   "source": [
    "import pandas as pd\n",
    "import numpy as np\n",
    "import datetime\n",
    "import warnings\n",
    "warnings.filterwarnings('ignore')\n",
    "warnings.filterwarnings(\"ignore\", message=\"numpy.ufunc size changed\")\n",
    "import matplotlib.pyplot as plt\n",
    "import seaborn as sns\n",
    "%matplotlib inline\n",
    "pd.set_option('display.max_columns', None)\n",
    "import re"
   ]
  },
  {
   "cell_type": "code",
   "execution_count": 2,
   "id": "de3927f5",
   "metadata": {},
   "outputs": [],
   "source": [
    "data = pd.read_csv(\"we_fn_use_c_marketing_customer_value_analysis.csv\")"
   ]
  },
  {
   "cell_type": "code",
   "execution_count": 10,
   "id": "a1eb139e",
   "metadata": {},
   "outputs": [
    {
     "data": {
      "text/plain": [
       "F    4658\n",
       "M    4476\n",
       "Name: Gender, dtype: int64"
      ]
     },
     "execution_count": 10,
     "metadata": {},
     "output_type": "execute_result"
    }
   ],
   "source": [
    "data['Gender'].value_counts()"
   ]
  },
  {
   "cell_type": "code",
   "execution_count": 12,
   "id": "b44d134c",
   "metadata": {},
   "outputs": [
    {
     "data": {
      "text/plain": [
       "<AxesSubplot:>"
      ]
     },
     "execution_count": 12,
     "metadata": {},
     "output_type": "execute_result"
    },
    {
     "data": {
      "image/png": "[encoded data removed]",
      "text/plain": [
       "<Figure size 432x288 with 1 Axes>"
      ]
     },
     "metadata": {
      "needs_background": "light"
     },
     "output_type": "display_data"
    }
   ],
   "source": [
    "data['Gender'].value_counts().plot(kind='bar')"
   ]
  },
  {
   "cell_type": "code",
   "execution_count": 15,
   "id": "89438406",
   "metadata": {},
   "outputs": [
    {
     "data": {
      "text/plain": [
       "<AxesSubplot:>"
      ]
     },
     "execution_count": 15,
     "metadata": {},
     "output_type": "execute_result"
    },
    {
     "data": {
      "image/png": "[encoded data removed]",
      "text/plain": [
       "<Figure size 432x288 with 1 Axes>"
      ]
     },
     "metadata": {
      "needs_background": "light"
     },
     "output_type": "display_data"
    }
   ],
   "source": [
    "data['EmploymentStatus'].value_counts().plot(kind='bar')"
   ]
  },
  {
   "cell_type": "code",
   "execution_count": 14,
   "id": "0cd7cf11",
   "metadata": {},
   "outputs": [
    {
     "data": {
      "image/png": "[encoded data removed]",
      "text/plain": [
       "<Figure size 432x288 with 1 Axes>"
      ]
     },
     "metadata": {
      "needs_background": "light"
     },
     "output_type": "display_data"
    }
   ],
   "source": [
    "sns.countplot(x = 'Gender', hue ='EmploymentStatus', data = data)\n",
    "plt.ylabel('Number of customers')\n",
    "plt.show()\n"
   ]
  },
  {
   "cell_type": "code",
   "execution_count": null,
   "id": "15d14c77",
   "metadata": {},
   "outputs": [],
   "source": [
    " Get the number of dimensions, shape, and size of ndarray"
   ]
  },
  {
   "cell_type": "markdown",
   "id": "c7fc48fa",
   "metadata": {},
   "source": [
    "Number of dimensions of numpy.ndarray: ndim\n",
    "Shape of numpy.ndarray: shape\n",
    "Size of numpy.ndarray (total number of elements): size\n",
    "Size of the first dimension of numpy.ndarray: len()"
   ]
  },
  {
   "cell_type": "code",
   "execution_count": 27,
   "id": "a7d8ed2c",
   "metadata": {},
   "outputs": [
    {
     "name": "stdout",
     "output_type": "stream",
     "text": [
      "[0 1 2]\n",
      "[[ 0  1  2  3]\n",
      " [ 4  5  6  7]\n",
      " [ 8  9 10 11]]\n",
      "[[[ 0  1  2  3]\n",
      "  [ 4  5  6  7]\n",
      "  [ 8  9 10 11]]\n",
      "\n",
      " [[12 13 14 15]\n",
      "  [16 17 18 19]\n",
      "  [20 21 22 23]]]\n"
     ]
    }
   ],
   "source": [
    "import numpy as np\n",
    "\n",
    "a_1d = np.arange(3)\n",
    "print(a_1d)\n",
    "\n",
    "a_2d = np.arange(12).reshape((3, 4))\n",
    "print(a_2d)\n",
    "\n",
    "a_3d = np.arange(24).reshape((2, 3, 4))\n",
    "print(a_3d)"
   ]
  },
  {
   "cell_type": "code",
   "execution_count": 19,
   "id": "251d0888",
   "metadata": {},
   "outputs": [
    {
     "name": "stdout",
     "output_type": "stream",
     "text": [
      "1\n",
      "<class 'int'>\n",
      "2\n",
      "3\n"
     ]
    }
   ],
   "source": [
    "print(a_1d.ndim)\n",
    "\n",
    "print(type(a_1d.ndim))\n",
    "\n",
    "print(a_2d.ndim)\n",
    "\n",
    "print(a_3d.ndim)"
   ]
  },
  {
   "cell_type": "code",
   "execution_count": 22,
   "id": "1c7960f6",
   "metadata": {},
   "outputs": [
    {
     "name": "stdout",
     "output_type": "stream",
     "text": [
      "(3,)\n",
      "<class 'tuple'>\n",
      "(3, 4)\n",
      "(2, 3, 4)\n"
     ]
    }
   ],
   "source": [
    "print(a_1d.shape)\n",
    "\n",
    "print(type(a_1d.shape))\n",
    "\n",
    "print(a_2d.shape)\n",
    "\n",
    "print(a_3d.shape)"
   ]
  },
  {
   "cell_type": "code",
   "execution_count": 23,
   "id": "b58a75ed",
   "metadata": {},
   "outputs": [
    {
     "name": "stdout",
     "output_type": "stream",
     "text": [
      "3\n",
      "4\n"
     ]
    }
   ],
   "source": [
    "row, col = a_2d.shape\n",
    "print(row)\n",
    "\n",
    "print(col)"
   ]
  },
  {
   "cell_type": "code",
   "execution_count": 28,
   "id": "9736f59a",
   "metadata": {},
   "outputs": [
    {
     "name": "stdout",
     "output_type": "stream",
     "text": [
      "3\n",
      "<class 'int'>\n",
      "12\n",
      "24\n"
     ]
    }
   ],
   "source": [
    "print(a_1d.size)\n",
    "\n",
    "print(type(a_1d.size))\n",
    "\n",
    "print(a_2d.size)\n",
    "\n",
    "print(a_3d.size)"
   ]
  },
  {
   "cell_type": "code",
   "execution_count": 29,
   "id": "409e4ed3",
   "metadata": {},
   "outputs": [
    {
     "name": "stdout",
     "output_type": "stream",
     "text": [
      "3\n",
      "3\n",
      "3\n",
      "3\n",
      "3\n",
      "2\n",
      "2\n"
     ]
    }
   ],
   "source": [
    "print(len(a_1d))\n",
    "\n",
    "print(a_1d.shape[0])\n",
    "\n",
    "print(a_1d.size)\n",
    "\n",
    "print(len(a_2d))\n",
    "\n",
    "print(a_2d.shape[0])\n",
    "\n",
    "print(len(a_3d))\n",
    "\n",
    "print(a_3d.shape[0])"
   ]
  },
  {
   "cell_type": "code",
   "execution_count": null,
   "id": "ba41b4e1",
   "metadata": {},
   "outputs": [],
   "source": []
  }
 ],
 "metadata": {
  "kernelspec": {
   "display_name": "Python 3 (ipykernel)",
   "language": "python",
   "name": "python3"
  },
  "language_info": {
   "codemirror_mode": {
    "name": "ipython",
    "version": 3
   },
   "file_extension": ".py",
   "mimetype": "text/x-python",
   "name": "python",
   "nbconvert_exporter": "python",
   "pygments_lexer": "ipython3",
   "version": "3.9.7"
  }
 },
 "nbformat": 4,
 "nbformat_minor": 5
}
